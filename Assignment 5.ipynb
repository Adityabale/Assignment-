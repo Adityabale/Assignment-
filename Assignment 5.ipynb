{
 "cells": [
  {
   "cell_type": "markdown",
   "id": "cb82fcd4",
   "metadata": {},
   "source": [
    "1.What does an empty dictionary&#39;s code look like?\n",
    "\n",
    "Ans. items= {} or items= dict()"
   ]
  },
  {
   "cell_type": "code",
   "execution_count": 4,
   "id": "3d6db05e",
   "metadata": {},
   "outputs": [
    {
     "name": "stdout",
     "output_type": "stream",
     "text": [
      "{}\n",
      "Length: 0\n",
      "<class 'dict'>\n"
     ]
    }
   ],
   "source": [
    "emptyDict = {}\n",
    "print(emptyDict) \n",
    "print(\"Length:\", len(emptyDict))\n",
    "print(type(emptyDict))"
   ]
  },
  {
   "cell_type": "code",
   "execution_count": 5,
   "id": "e4011c02",
   "metadata": {},
   "outputs": [
    {
     "name": "stdout",
     "output_type": "stream",
     "text": [
      "{}\n",
      "Length: 0\n",
      "<class 'dict'>\n"
     ]
    }
   ],
   "source": [
    "emptyDict = dict()\n",
    "print(emptyDict)\n",
    "print(\"Length:\",len(emptyDict))\n",
    "print(type(emptyDict))"
   ]
  },
  {
   "cell_type": "markdown",
   "id": "b09f16e8",
   "metadata": {},
   "source": [
    "2.What is the value of a dictionary value with the key 'foo' and the value 42? "
   ]
  },
  {
   "cell_type": "code",
   "execution_count": 10,
   "id": "a4ff10d1",
   "metadata": {},
   "outputs": [
    {
     "data": {
      "text/plain": [
       "42"
      ]
     },
     "execution_count": 10,
     "metadata": {},
     "output_type": "execute_result"
    }
   ],
   "source": [
    "d = {\"foo\":42}\n",
    "d[\"foo\"]"
   ]
  },
  {
   "cell_type": "markdown",
   "id": "bf16143b",
   "metadata": {},
   "source": [
    "3.What is the most significant distinction between a dictionary and a list?\n",
    "\n",
    "Ans. A list may contains any type of values with each value seperated by comas and each elements is identified with unique location index. Whereas dict elements are always in key and values pairs and each value is identified from its respective key element."
   ]
  },
  {
   "cell_type": "markdown",
   "id": "db1dedbd",
   "metadata": {},
   "source": [
    "4.What happens if you try to access spam['foo'] if spam is {'bar': 100}?\n",
    "\n",
    "Ans. It will give a key error as there is no key named \"foo\" in the spam dict."
   ]
  },
  {
   "cell_type": "code",
   "execution_count": 15,
   "id": "2bee35ea",
   "metadata": {},
   "outputs": [
    {
     "ename": "KeyError",
     "evalue": "'foo'",
     "output_type": "error",
     "traceback": [
      "\u001b[1;31m---------------------------------------------------------------------------\u001b[0m",
      "\u001b[1;31mKeyError\u001b[0m                                  Traceback (most recent call last)",
      "Input \u001b[1;32mIn [15]\u001b[0m, in \u001b[0;36m<cell line: 2>\u001b[1;34m()\u001b[0m\n\u001b[0;32m      1\u001b[0m spam \u001b[38;5;241m=\u001b[39m {\u001b[38;5;124m\"\u001b[39m\u001b[38;5;124mbar\u001b[39m\u001b[38;5;124m\"\u001b[39m: \u001b[38;5;241m100\u001b[39m}\n\u001b[1;32m----> 2\u001b[0m \u001b[43mspam\u001b[49m\u001b[43m[\u001b[49m\u001b[38;5;124;43m'\u001b[39;49m\u001b[38;5;124;43mfoo\u001b[39;49m\u001b[38;5;124;43m'\u001b[39;49m\u001b[43m]\u001b[49m\n",
      "\u001b[1;31mKeyError\u001b[0m: 'foo'"
     ]
    }
   ],
   "source": [
    "spam = {\"bar\": 100}\n",
    "spam['foo']"
   ]
  },
  {
   "cell_type": "markdown",
   "id": "57efa3f3",
   "metadata": {},
   "source": [
    "5.If a dictionary is stored in spam, what is the difference between the expressions \"cat\" in spam and\n",
    "\"cat\" in spam.keys()?\n",
    "\n",
    "Ans. spam['cat'] will give you the value associated with key 'cat'. Whereas spam.keys() will list out only the keys present in the spam dict set.\n"
   ]
  },
  {
   "cell_type": "markdown",
   "id": "268cea49",
   "metadata": {},
   "source": [
    "6.If a dictionary is stored in spam, what is the difference between the expressions 'cat' in spam and\n",
    "'cat' in spam.values()?\n",
    "\n",
    "Ans. spam['cat'] will give you the value associated with key 'cat'. Whereas spam.values() will list out only the values associated with keys present in the spam dict set."
   ]
  },
  {
   "cell_type": "markdown",
   "id": "428a84a1",
   "metadata": {},
   "source": [
    "7.What is a shortcut for the following code?"
   ]
  },
  {
   "cell_type": "code",
   "execution_count": 22,
   "id": "e89aa4a4",
   "metadata": {},
   "outputs": [],
   "source": [
    "spam = {}\n",
    "if 'color' not in spam:\n",
    "    spam['color'] = 'black'"
   ]
  },
  {
   "cell_type": "code",
   "execution_count": 26,
   "id": "0087b351",
   "metadata": {},
   "outputs": [],
   "source": [
    "spam = {}\n",
    "spam1 = {'color':'black'}\n",
    "spam.update(spam1)"
   ]
  },
  {
   "cell_type": "code",
   "execution_count": 27,
   "id": "0f1e350d",
   "metadata": {},
   "outputs": [
    {
     "data": {
      "text/plain": [
       "{'color': 'black'}"
      ]
     },
     "execution_count": 27,
     "metadata": {},
     "output_type": "execute_result"
    }
   ],
   "source": [
    "spam"
   ]
  },
  {
   "cell_type": "markdown",
   "id": "e34dcd76",
   "metadata": {},
   "source": [
    "8.How do you 'pretty print' dictionary values using which module and function?\n",
    "\n",
    "Ans. The pprint module provides a capability to “pretty-print” arbitrary Python data structures in a form which can be used as input to the interpreter. If the formatted structures include objects which are not fundamental Python types, the representation may not be loadable."
   ]
  }
 ],
 "metadata": {
  "kernelspec": {
   "display_name": "Python 3 (ipykernel)",
   "language": "python",
   "name": "python3"
  },
  "language_info": {
   "codemirror_mode": {
    "name": "ipython",
    "version": 3
   },
   "file_extension": ".py",
   "mimetype": "text/x-python",
   "name": "python",
   "nbconvert_exporter": "python",
   "pygments_lexer": "ipython3",
   "version": "3.9.12"
  }
 },
 "nbformat": 4,
 "nbformat_minor": 5
}
