{
 "cells": [
  {
   "cell_type": "markdown",
   "id": "70af2d46",
   "metadata": {},
   "source": [
    "1.What are escape characters, and how do you use them?\n",
    "\n",
    "Ans. Escape Characters are used to insert characters that are illegal in a string. An escape character is a backslash \\ followed by the character you want to insert."
   ]
  },
  {
   "cell_type": "markdown",
   "id": "0813c9de",
   "metadata": {},
   "source": [
    "2.What do the escape characters n and t stand for?\n",
    "\n",
    "Ans. \\n stands for new line whereas \\t stands for tab after its initiation."
   ]
  },
  {
   "cell_type": "markdown",
   "id": "c6be578e",
   "metadata": {},
   "source": [
    "3.What is the way to include backslash characters in a string?\n",
    "\n",
    "Ans. It is done by providing double backslash at the same place you want to provide backslash."
   ]
  },
  {
   "cell_type": "markdown",
   "id": "92064b5f",
   "metadata": {},
   "source": [
    "4.The string 'Howl's Moving Castle' is a correct value. Why isn't the single quote character in the\n",
    "word Howl's not escaped a problem?"
   ]
  },
  {
   "cell_type": "code",
   "execution_count": 3,
   "id": "5143b51e",
   "metadata": {},
   "outputs": [
    {
     "data": {
      "text/plain": [
       "(\"Howl's Moving Castle\", \"Howl's Moving Castle\")"
      ]
     },
     "execution_count": 3,
     "metadata": {},
     "output_type": "execute_result"
    }
   ],
   "source": [
    "s1='Howl\\'s Moving Castle'\n",
    "s2=\"Howl's Moving Castle\"\n",
    "s1,s2"
   ]
  },
  {
   "cell_type": "markdown",
   "id": "3633845e",
   "metadata": {},
   "source": [
    "5.How do you write a string of newlines if you don't want to use the n character?\n",
    "\n",
    "Ans. With triple-quoted string literals, you can use actual newlines instead of \\n."
   ]
  },
  {
   "cell_type": "code",
   "execution_count": 14,
   "id": "ab94f1d5",
   "metadata": {},
   "outputs": [
    {
     "name": "stdout",
     "output_type": "stream",
     "text": [
      " 99 buckets of bits on the bus.\n",
      " 99 buckets of bits.\n",
      " Take one down, short it to ground.\n",
      " 98 buckets of bits on the bus.\n"
     ]
    }
   ],
   "source": [
    "print(\"\"\" 99 buckets of bits on the bus.\n",
    " 99 buckets of bits.\n",
    " Take one down, short it to ground.\n",
    " 98 buckets of bits on the bus.\"\"\")"
   ]
  },
  {
   "cell_type": "markdown",
   "id": "01767308",
   "metadata": {},
   "source": [
    "6.What are the values of the given expressions"
   ]
  },
  {
   "cell_type": "markdown",
   "id": "4d8bef54",
   "metadata": {},
   "source": [
    "\"Hello, world!\"[1] - e\n",
    "\n",
    "\"Hello, world!\"[0:5] - 'Hello'\n",
    "\n",
    "\"Hello, world!\"[:5] - 'Hello'\n",
    "\n",
    "\"Hello, world!\"[3:] - 'lo, world'\n"
   ]
  },
  {
   "cell_type": "markdown",
   "id": "6f901cf8",
   "metadata": {},
   "source": [
    "7.What are the values of the following expressions?\n",
    "\n",
    "'Hello'.upper() - 'HELLO'\n",
    "\n",
    "'Hello'.upper().isupper() - True\n",
    "\n",
    "'Hello'.upper().lower() - 'hello'"
   ]
  },
  {
   "cell_type": "markdown",
   "id": "13c3ea9c",
   "metadata": {},
   "source": [
    "8.What are the values of the following expressions?\n",
    "\n",
    "'Remember, remember, the fifth of July.'.split(\",\") - ['Remember',' remember',' the fifth of July.']\n",
    "\n",
    "'-'.join('There can only one.'.split()) - 'There-can-only-one.'"
   ]
  },
  {
   "cell_type": "markdown",
   "id": "f01defa2",
   "metadata": {},
   "source": [
    "9.What are the methods for right-justifying, left-justifying, and centering a string?\n",
    "\n",
    "Ans.  center() - Center function aligns the string at centre according to the width specified and fills remaining space of line with blank space if ‘ fillchr ‘ argument is not passed.\n",
    "\n",
    "ljust() - left-justify function aligns the string to the left according to the width specified and fills remaining space of line with blank space if ‘ fillchr ‘ argument is not passed.\n",
    "\n",
    "rjust() - right-justify function aligns the string to the right according to the width specified and fills remaining space of line with blank space if ‘ fillchr ‘ argument is not passed."
   ]
  },
  {
   "cell_type": "markdown",
   "id": "6ced2b5c",
   "metadata": {},
   "source": [
    "10.What is the best way to remove whitespace characters from the start or end?\n",
    "\n",
    "Ans.Using strip(), replace(\" \", \"\") or split() functions."
   ]
  },
  {
   "cell_type": "code",
   "execution_count": 30,
   "id": "17ab24fd",
   "metadata": {},
   "outputs": [
    {
     "data": {
      "text/plain": [
       "'hello  apple'"
      ]
     },
     "execution_count": 30,
     "metadata": {},
     "output_type": "execute_result"
    }
   ],
   "source": [
    "\"  hello  apple  \".strip()"
   ]
  },
  {
   "cell_type": "code",
   "execution_count": 31,
   "id": "8823c2a8",
   "metadata": {},
   "outputs": [
    {
     "data": {
      "text/plain": [
       "'helloapple'"
      ]
     },
     "execution_count": 31,
     "metadata": {},
     "output_type": "execute_result"
    }
   ],
   "source": [
    "\"  hello  apple  \".replace(\" \", \"\")"
   ]
  },
  {
   "cell_type": "code",
   "execution_count": 34,
   "id": "4a94e19b",
   "metadata": {},
   "outputs": [
    {
     "data": {
      "text/plain": [
       "'hello apple'"
      ]
     },
     "execution_count": 34,
     "metadata": {},
     "output_type": "execute_result"
    }
   ],
   "source": [
    "\" \".join(\"  hello  apple  \".split())"
   ]
  }
 ],
 "metadata": {
  "kernelspec": {
   "display_name": "Python 3 (ipykernel)",
   "language": "python",
   "name": "python3"
  },
  "language_info": {
   "codemirror_mode": {
    "name": "ipython",
    "version": 3
   },
   "file_extension": ".py",
   "mimetype": "text/x-python",
   "name": "python",
   "nbconvert_exporter": "python",
   "pygments_lexer": "ipython3",
   "version": "3.9.12"
  }
 },
 "nbformat": 4,
 "nbformat_minor": 5
}
