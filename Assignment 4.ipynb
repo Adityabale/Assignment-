{
 "cells": [
  {
   "cell_type": "markdown",
   "id": "de1f247e",
   "metadata": {},
   "source": [
    "1.What exactly is []?\n",
    "\n",
    "Ans. Its an empty list which means it has no items. "
   ]
  },
  {
   "cell_type": "markdown",
   "id": "403ddccc",
   "metadata": {},
   "source": [
    "2.In a list of values stored in a variable called spam, how would you assign the value 'hello' as the third value? (Assume [2, 4, 6, 8, 10] are in spam.)\n",
    "\n",
    "Ans. "
   ]
  },
  {
   "cell_type": "code",
   "execution_count": 3,
   "id": "39e79503",
   "metadata": {},
   "outputs": [],
   "source": [
    "spam = [2,4,6,8,10]\n",
    "spam[2] = \"hello\""
   ]
  },
  {
   "cell_type": "code",
   "execution_count": 4,
   "id": "a950b5ed",
   "metadata": {},
   "outputs": [
    {
     "data": {
      "text/plain": [
       "[2, 4, 'hello', 8, 10]"
      ]
     },
     "execution_count": 4,
     "metadata": {},
     "output_type": "execute_result"
    }
   ],
   "source": [
    "spam"
   ]
  },
  {
   "cell_type": "markdown",
   "id": "c6f38465",
   "metadata": {},
   "source": [
    "3.What is the value of spam[int(int('3' * 2) / 11)]?\n",
    "\n",
    "Ans. 'd'"
   ]
  },
  {
   "cell_type": "code",
   "execution_count": 6,
   "id": "0ec07dfe",
   "metadata": {},
   "outputs": [],
   "source": [
    "spam = ['a','b','c','d']"
   ]
  },
  {
   "cell_type": "code",
   "execution_count": 7,
   "id": "b57e4c51",
   "metadata": {},
   "outputs": [
    {
     "data": {
      "text/plain": [
       "'d'"
      ]
     },
     "execution_count": 7,
     "metadata": {},
     "output_type": "execute_result"
    }
   ],
   "source": [
    "spam[int(int('3' * 2) / 11)]"
   ]
  },
  {
   "cell_type": "markdown",
   "id": "3659c977",
   "metadata": {},
   "source": [
    "4.What is the value of spam[-1]?\n",
    "\n",
    "Ans. 'd'"
   ]
  },
  {
   "cell_type": "code",
   "execution_count": 8,
   "id": "c757b6cb",
   "metadata": {},
   "outputs": [
    {
     "data": {
      "text/plain": [
       "'d'"
      ]
     },
     "execution_count": 8,
     "metadata": {},
     "output_type": "execute_result"
    }
   ],
   "source": [
    "spam[-1]"
   ]
  },
  {
   "cell_type": "markdown",
   "id": "c99919b7",
   "metadata": {},
   "source": [
    "5.What is the value of spam[:2]?\n",
    "\n",
    "Ans. ['a', 'b']"
   ]
  },
  {
   "cell_type": "code",
   "execution_count": 9,
   "id": "5c5cdba3",
   "metadata": {},
   "outputs": [
    {
     "data": {
      "text/plain": [
       "['a', 'b']"
      ]
     },
     "execution_count": 9,
     "metadata": {},
     "output_type": "execute_result"
    }
   ],
   "source": [
    "spam[:2]"
   ]
  },
  {
   "cell_type": "markdown",
   "id": "cf85cdbf",
   "metadata": {},
   "source": [
    "6.What is the value of bacon.index(\"cat\")?\n",
    "\n",
    "Ans. 1"
   ]
  },
  {
   "cell_type": "code",
   "execution_count": 25,
   "id": "01add5cf",
   "metadata": {},
   "outputs": [
    {
     "data": {
      "text/plain": [
       "1"
      ]
     },
     "execution_count": 25,
     "metadata": {},
     "output_type": "execute_result"
    }
   ],
   "source": [
    "bacon=[3.14, 'cat', 11, 'cat', True]\n",
    "bacon.index(\"cat\")"
   ]
  },
  {
   "cell_type": "markdown",
   "id": "e01fa36b",
   "metadata": {},
   "source": [
    "7.How does bacon.append(99) change the look of the list value in bacon?\n",
    "\n",
    "Ans. [3.14, 'cat', 11, 'cat', True, 99]"
   ]
  },
  {
   "cell_type": "code",
   "execution_count": 26,
   "id": "5392c53d",
   "metadata": {},
   "outputs": [
    {
     "name": "stdout",
     "output_type": "stream",
     "text": [
      "[3.14, 'cat', 11, 'cat', True, 99]\n"
     ]
    }
   ],
   "source": [
    "bacon.append(99)\n",
    "print(bacon)"
   ]
  },
  {
   "cell_type": "markdown",
   "id": "f08c1e98",
   "metadata": {},
   "source": [
    "8.How does bacon.remove('cat') change the look of the list in bacon?\n",
    "\n",
    "Ans. [3.14, 11, 'cat', True, 99]"
   ]
  },
  {
   "cell_type": "code",
   "execution_count": 27,
   "id": "37fc561a",
   "metadata": {},
   "outputs": [
    {
     "name": "stdout",
     "output_type": "stream",
     "text": [
      "[3.14, 11, 'cat', True, 99]\n"
     ]
    }
   ],
   "source": [
    "bacon.remove('cat')\n",
    "print(bacon)"
   ]
  },
  {
   "cell_type": "markdown",
   "id": "cf9f3ef4",
   "metadata": {},
   "source": [
    "9.What are the list concatenation and list replication operators?\n",
    "\n",
    "Ans. Similar to concatenation operation in strings, list concatenation also uses the same operator \"+\" which will combined the two list to form a single list entity. Whereas list replication is property where using \"*\" operator you can create a copies of elements into a single list format.\n"
   ]
  },
  {
   "cell_type": "markdown",
   "id": "0fa99ce5",
   "metadata": {},
   "source": [
    "10.What is difference between the list methods append() and insert()?\n",
    "\n",
    "Ans. Insert command will place the required element as per the index loaction specified whereas append command will add the element to the very end of the list."
   ]
  },
  {
   "cell_type": "markdown",
   "id": "6baea5cd",
   "metadata": {},
   "source": [
    "11.What are the two methods for removing items from a list?\n",
    "\n",
    "Ans. pop command will remove the element as per the index specified and remove command will remove the first occurance of the same element as specified."
   ]
  },
  {
   "cell_type": "markdown",
   "id": "64f64acc",
   "metadata": {},
   "source": [
    "12.Describe how list values and string values are identical.\n",
    "\n",
    "Ans.list is an ordered sequence of object types and a string is an ordered sequence of characters."
   ]
  },
  {
   "cell_type": "markdown",
   "id": "fd0fe5ca",
   "metadata": {},
   "source": [
    "13.What is the difference between tuples and lists?\n",
    "\n",
    "Ans.Tuples are immutable. It is used when it is known that your data will not change in your program's lifecycle or when you want a guarantee that your data will always remain the same.\n",
    "Lists are mutable. You can add and remove items. Lists grow and shrink throughout the life of a program and used when your data is meant to be changed."
   ]
  },
  {
   "cell_type": "markdown",
   "id": "ef8a37cb",
   "metadata": {},
   "source": [
    "14.How do you type a tuple value that only contains the integer 42?"
   ]
  },
  {
   "cell_type": "code",
   "execution_count": 7,
   "id": "b64890cb",
   "metadata": {},
   "outputs": [
    {
     "data": {
      "text/plain": [
       "int"
      ]
     },
     "execution_count": 7,
     "metadata": {},
     "output_type": "execute_result"
    }
   ],
   "source": [
    "t = (42)\n",
    "type(t)"
   ]
  },
  {
   "cell_type": "code",
   "execution_count": 9,
   "id": "7616a05c",
   "metadata": {},
   "outputs": [
    {
     "data": {
      "text/plain": [
       "tuple"
      ]
     },
     "execution_count": 9,
     "metadata": {},
     "output_type": "execute_result"
    }
   ],
   "source": [
    "t = (42,)\n",
    "type(t)"
   ]
  },
  {
   "cell_type": "markdown",
   "id": "b083b197",
   "metadata": {},
   "source": [
    "15.How do you get a list values tuple form? How do you get a tuple values list form?"
   ]
  },
  {
   "cell_type": "code",
   "execution_count": 12,
   "id": "24bbe11d",
   "metadata": {},
   "outputs": [
    {
     "data": {
      "text/plain": [
       "(1, 2, 3, 4, 5, 6)"
      ]
     },
     "execution_count": 12,
     "metadata": {},
     "output_type": "execute_result"
    }
   ],
   "source": [
    "l = [1,2,3,4,5,6]\n",
    "type(l)\n",
    "t = tuple(l)\n",
    "t"
   ]
  },
  {
   "cell_type": "code",
   "execution_count": 14,
   "id": "5eb89718",
   "metadata": {},
   "outputs": [
    {
     "data": {
      "text/plain": [
       "[1, 2, 3, 4, 5, 6]"
      ]
     },
     "execution_count": 14,
     "metadata": {},
     "output_type": "execute_result"
    }
   ],
   "source": [
    "l1 = list(t)\n",
    "l1"
   ]
  },
  {
   "cell_type": "markdown",
   "id": "7269d487",
   "metadata": {},
   "source": [
    "16.Variables that contain list values are not necessarily lists themselves. Instead, what do they\n",
    "contain?\n",
    "\n",
    "Ans.A List can accomodate any kind of elements witin it and the same can be extracted or modified as per requirement any time because list values are mutable."
   ]
  },
  {
   "cell_type": "markdown",
   "id": "41d1b560",
   "metadata": {},
   "source": [
    "17.How do you distinguish between copy.copy() and copy.deepcopy()?\n",
    "\n",
    "Ans.A shallow copy constructs a new compound object and then (to the extent possible) inserts references into it to the objects found in the original which means the change made in the list does affect the other copied list, indicating the list is shallowly copied\n",
    "A deep copy constructs a new compound object and then, recursively, inserts copies into it of the objects found in the original whiich means the change made in the list did not affect other copied lists, indicating the list is deeply copied."
   ]
  }
 ],
 "metadata": {
  "kernelspec": {
   "display_name": "Python 3 (ipykernel)",
   "language": "python",
   "name": "python3"
  },
  "language_info": {
   "codemirror_mode": {
    "name": "ipython",
    "version": 3
   },
   "file_extension": ".py",
   "mimetype": "text/x-python",
   "name": "python",
   "nbconvert_exporter": "python",
   "pygments_lexer": "ipython3",
   "version": "3.9.12"
  }
 },
 "nbformat": 4,
 "nbformat_minor": 5
}
