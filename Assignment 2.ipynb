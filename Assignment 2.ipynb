{
 "cells": [
  {
   "cell_type": "markdown",
   "id": "c06dd824",
   "metadata": {},
   "source": [
    "1.What are the two values of the Boolean data type? How do you write them?\n",
    "\n",
    "Ans.The boolean value can be of two types only i.e. either True or False.\n",
    "    The Booleans values will be returned as a result of some sort of comparison.\n",
    "    eg.x = 5\n",
    "       y = 10\n",
    "       print(bool(x==y))\n",
    "       \n",
    "       False"
   ]
  },
  {
   "cell_type": "markdown",
   "id": "79ad32ba",
   "metadata": {},
   "source": [
    "2.What are the three different types of Boolean operators?\n",
    "\n",
    "Ans. Boolean Operations are simple arithmetic of True and False values. These values can be manipulated by the use of boolean operators which include AND, Or, and NOT. Common boolean operations are –\n",
    "\n",
    "    or\n",
    "    and\n",
    "    not\n",
    "    == (equivalent)\n",
    "    != (not equivalent)"
   ]
  },
  {
   "cell_type": "markdown",
   "id": "fa0eadd1",
   "metadata": {},
   "source": [
    "3.Make a list of each Boolean operators truth tables (i.e. every possible combination of Boolean\n",
    "values for the operator and what it evaluate)\n",
    "\n",
    "Ans. A\t     B\t   A or B       \n",
    "   True\t    True\tTrue\n",
    "   True\t    False\tTrue\n",
    "   False\tTrue\tTrue\n",
    "   False\tFalse\tFalse"
   ]
  },
  {
   "cell_type": "markdown",
   "id": "86b594ad",
   "metadata": {},
   "source": [
    "    A      B\tA and B\n",
    "   True\t True\tTrue\n",
    "   True\t False\tFalse\n",
    "  False  True\tFalse\n",
    "  False\t False\tFalse"
   ]
  },
  {
   "cell_type": "markdown",
   "id": "56224baa",
   "metadata": {},
   "source": [
    "A\t    Not A\n",
    "True\tFalse\n",
    "False\tTrue"
   ]
  },
  {
   "cell_type": "markdown",
   "id": "a55e3703",
   "metadata": {},
   "source": [
    "3.What are the values of the following expressions?\n",
    "\n",
    "Ans. (5 > 4) and (3 == 5)  - False\n",
    "     not (5 > 4) - False\n",
    "     (5 > 4) or (3 == 5) - True\n",
    "     not ((5 > 4) or (3 == 5)) - False\n",
    "     (True and True) and (True == False) - False\n",
    "     (not False) or (not True) - True"
   ]
  },
  {
   "cell_type": "markdown",
   "id": "ef340291",
   "metadata": {},
   "source": [
    "5.What are the six comparison operators?\n",
    "\n",
    "Ans. there are six types of comparison operators:\n",
    "\n",
    "1.Less than (<)\n",
    "2.Greater than (>)\n",
    "3.Less than or equal to (<=)\n",
    "4.Greater than or equal to (>=)\n",
    "5.Equal to (==)\n",
    "6.Not equal to (!=)"
   ]
  },
  {
   "cell_type": "markdown",
   "id": "2502106b",
   "metadata": {},
   "source": [
    "6.How do you tell the difference between the equal to and assignment operators?Describe a\n",
    "condition and when you would use one.\n",
    "\n",
    "Ans.Equal to (==) is an equality relational operator that evaluates two expressions to see if they \n",
    "    are equal and returns true if they are equal and false if they are not.\n",
    "    The assignment operator (=) is used to assign a value to a variable. Hence, we can have a complex \n",
    "    assignment operation inside the equality relational operator for evaluation."
   ]
  },
  {
   "cell_type": "markdown",
   "id": "b28483b5",
   "metadata": {},
   "source": [
    "7.Identify the three blocks in this code:\n",
    "\n",
    "if block, if block and else block"
   ]
  },
  {
   "cell_type": "code",
   "execution_count": 3,
   "id": "918c6c1c",
   "metadata": {},
   "outputs": [
    {
     "name": "stdout",
     "output_type": "stream",
     "text": [
      "ham\n",
      "spam\n",
      "spam\n"
     ]
    }
   ],
   "source": [
    "spam = 0\n",
    "if spam == 10:\n",
    "    print(\"eggs\")\n",
    "if spam > 5:\n",
    "    print(\"bacon\")\n",
    "else:\n",
    "    print(\"ham\")\n",
    "    print(\"spam\")\n",
    "    print(\"spam\")"
   ]
  },
  {
   "cell_type": "code",
   "execution_count": 9,
   "id": "6c74a517",
   "metadata": {},
   "outputs": [
    {
     "name": "stdout",
     "output_type": "stream",
     "text": [
      "Enter a number: 1\n",
      "Hello\n"
     ]
    }
   ],
   "source": [
    "#8.Write code that prints Hello if 1 is stored in spam, prints Howdy if 2 is stored in spam, and prints\n",
    "#Greetings! if anything else is stored in spam.\n",
    "\n",
    "spam = int(input(\"Enter a number: \"))\n",
    "if spam == 1:\n",
    "    print(\"Hello\")\n",
    "elif spam == 2:\n",
    "    print(\"Howdy\")\n",
    "else:\n",
    "    print(\"Greetings\")\n",
    "\n"
   ]
  },
  {
   "cell_type": "markdown",
   "id": "3f6c4dac",
   "metadata": {},
   "source": [
    "9.If your programme is stuck in an endless loop, what keys you’ll press?\n",
    "\n",
    "Ans. Alt + break"
   ]
  },
  {
   "cell_type": "markdown",
   "id": "30941b37",
   "metadata": {},
   "source": [
    "10.How can you tell the difference between break and continue?\n",
    "\n",
    "Ans. the break command terminates the entire loop and the program jumps to the last statement at the \n",
    "     end of the program.\n",
    "     The continue command, on the other hand, only terminates the ongoing loop and the program \n",
    "     returns to the initial condition statement where the controlling expression is checked again \n",
    "     whether or not to execute the loop further."
   ]
  },
  {
   "cell_type": "markdown",
   "id": "2a8da700",
   "metadata": {},
   "source": [
    "11.In a for loop, what is the difference between range(10), range(0, 10), and range(0, 10, 1)?\n",
    "\n",
    "Ans. Although syntax is different, All the three have the same output."
   ]
  },
  {
   "cell_type": "code",
   "execution_count": 20,
   "id": "31dc5f0e",
   "metadata": {},
   "outputs": [
    {
     "name": "stdout",
     "output_type": "stream",
     "text": [
      "1\n",
      "2\n",
      "3\n",
      "4\n",
      "5\n",
      "6\n",
      "7\n",
      "8\n",
      "9\n",
      "10\n"
     ]
    }
   ],
   "source": [
    "#Write a short program that prints the numbers 1 to 10 using a for loop. Then write an equivalent\n",
    "#program that prints the numbers 1 to 10 using a while loop.\n",
    "\n",
    "a = range(10)\n",
    "for i in list(a):\n",
    "    print(i+1)"
   ]
  },
  {
   "cell_type": "code",
   "execution_count": 21,
   "id": "4864f55a",
   "metadata": {},
   "outputs": [
    {
     "name": "stdout",
     "output_type": "stream",
     "text": [
      "1\n",
      "2\n",
      "3\n",
      "4\n",
      "5\n",
      "6\n",
      "7\n",
      "8\n",
      "9\n",
      "10\n"
     ]
    }
   ],
   "source": [
    "a = 0\n",
    "while a < 10:\n",
    "    print(a+1)\n",
    "    a = a + 1"
   ]
  },
  {
   "cell_type": "markdown",
   "id": "6b107b43",
   "metadata": {},
   "source": [
    "13.If you had a function named bacon() inside a module named spam, how would you call it after\n",
    "importing spam?\n",
    "\n",
    "Ans.import spam\n",
    "\n",
    "     print(spam.bacon())"
   ]
  }
 ],
 "metadata": {
  "kernelspec": {
   "display_name": "Python 3 (ipykernel)",
   "language": "python",
   "name": "python3"
  },
  "language_info": {
   "codemirror_mode": {
    "name": "ipython",
    "version": 3
   },
   "file_extension": ".py",
   "mimetype": "text/x-python",
   "name": "python",
   "nbconvert_exporter": "python",
   "pygments_lexer": "ipython3",
   "version": "3.9.12"
  }
 },
 "nbformat": 4,
 "nbformat_minor": 5
}
