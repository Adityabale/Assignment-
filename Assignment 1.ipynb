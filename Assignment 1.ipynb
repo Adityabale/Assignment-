{
 "cells": [
  {
   "cell_type": "markdown",
   "id": "5c5fa3ea",
   "metadata": {},
   "source": [
    "1.In the below elements which of them are values or an expression? eg:- values can be\n",
    "integer or string and expressions will be mathematical operators.\n",
    "* - expression\n",
    "&#39;hello&#39; - values\n",
    "-87.8 - values\n",
    "- - expression\n",
    "/ - expression\n",
    "+ - expression\n",
    "6 - values"
   ]
  },
  {
   "cell_type": "markdown",
   "id": "2a1f602e",
   "metadata": {},
   "source": [
    "2.What is the difference between string and variable?\n",
    "\n",
    "Ans. Variable is a property that can take any kind of value/data where string is collection of words or letter within the inverted comas. Also numbers can be used as string but you cannot do any mathematical calculations with it when it is in string format."
   ]
  },
  {
   "cell_type": "markdown",
   "id": "e096c6ce",
   "metadata": {},
   "source": [
    "3.Describe three different data types.\n",
    "\n",
    "Ans. 1. int - which includes integer values with whole number eg. 34,5,66 etc\n",
    "     2. float - which includes decimal values eg. 22.2, 34.5, 4.44 etc\n",
    "     3. str - which includes words and letters or collections of words and shall be provided within inverted comas  eg. \"Amit\",\"rohan\" etc \n",
    "     "
   ]
  },
  {
   "cell_type": "markdown",
   "id": "351e69ab",
   "metadata": {},
   "source": [
    "4.What is an expression made up of? What do all expressions do?\n",
    "\n",
    "Ans. Basically python expression is any element in the program that evaluates to give some value. \n",
    "     Eg. 4 + 1, \"hi\" + \"hello\" and the python interpreter will immediately return a value for the\n",
    "     expression you have mentioned.\n",
    "\n"
   ]
  },
  {
   "cell_type": "markdown",
   "id": "65133bf1",
   "metadata": {},
   "source": [
    "5.This assignment statements, like spam = 10. What is the difference between an\n",
    "expression and a statement?\n",
    "\n",
    "Ans. Expressions always returns a value. Whereas a statement never returns a value\n",
    "     Functions are also expressions. Even a non returning function will still return None value, so        it is an expression. Whereas Python Statements includes: Assignment statements, conditional          branching, loops, classes, import, def, try, except, pass, del etc\n",
    "     Expressions one can print the result value but in statement you cannot print any result\n",
    "        "
   ]
  },
  {
   "cell_type": "markdown",
   "id": "d4060071",
   "metadata": {},
   "source": [
    "6.After running the following code, what does the variable bacon contain?"
   ]
  },
  {
   "cell_type": "code",
   "execution_count": 1,
   "id": "45afa6d4",
   "metadata": {},
   "outputs": [
    {
     "data": {
      "text/plain": [
       "23"
      ]
     },
     "execution_count": 1,
     "metadata": {},
     "output_type": "execute_result"
    }
   ],
   "source": [
    "bacon = 22\n",
    "bacon + 1"
   ]
  },
  {
   "cell_type": "markdown",
   "id": "f7aca13f",
   "metadata": {},
   "source": [
    "7.What should the values of the following two terms be?"
   ]
  },
  {
   "cell_type": "code",
   "execution_count": 2,
   "id": "770c2fc5",
   "metadata": {},
   "outputs": [
    {
     "data": {
      "text/plain": [
       "'spamspamspam'"
      ]
     },
     "execution_count": 2,
     "metadata": {},
     "output_type": "execute_result"
    }
   ],
   "source": [
    "\"spam\" + \"spamspam\""
   ]
  },
  {
   "cell_type": "code",
   "execution_count": 3,
   "id": "21952a9c",
   "metadata": {},
   "outputs": [
    {
     "data": {
      "text/plain": [
       "'spamspamspam'"
      ]
     },
     "execution_count": 3,
     "metadata": {},
     "output_type": "execute_result"
    }
   ],
   "source": [
    "\"spam\"*3"
   ]
  },
  {
   "cell_type": "markdown",
   "id": "71cc2c6c",
   "metadata": {},
   "source": [
    "8.Why is eggs a valid variable name while 100 is invalid?\n",
    "\n",
    "Ans. A variable can only start with an alphabet(uppercase and lowercase both are included) or  underscore. No other special characters can be used other than underscore and rest all other characters are prohibited as variable names."
   ]
  },
  {
   "cell_type": "markdown",
   "id": "1d84bae3",
   "metadata": {},
   "source": [
    "9.What three functions can be used to get the integer, floating-point number, or string\n",
    "version of a value?\n",
    "\n",
    "Ans. If, elif and else command or for loop command or while loop command."
   ]
  },
  {
   "cell_type": "markdown",
   "id": "90c63b71",
   "metadata": {},
   "source": [
    "Why does this expression cause an error? How can you fix it?\n",
    "\"I have eaten\" + 99 + \"burritos\"\n",
    "\n",
    "Ans. It will give type error as you are trying to do concatenation operation on two different types\n",
    "     of data i.e. string and int. This can be fixed by providing inverted comas to the integer 99."
   ]
  },
  {
   "cell_type": "code",
   "execution_count": 10,
   "id": "1134ef0c",
   "metadata": {},
   "outputs": [
    {
     "data": {
      "text/plain": [
       "'I have eaten 99 burritos'"
      ]
     },
     "execution_count": 10,
     "metadata": {},
     "output_type": "execute_result"
    }
   ],
   "source": [
    "\"I have eaten\" + \" 99 \" + \"burritos\""
   ]
  }
 ],
 "metadata": {
  "kernelspec": {
   "display_name": "Python 3 (ipykernel)",
   "language": "python",
   "name": "python3"
  },
  "language_info": {
   "codemirror_mode": {
    "name": "ipython",
    "version": 3
   },
   "file_extension": ".py",
   "mimetype": "text/x-python",
   "name": "python",
   "nbconvert_exporter": "python",
   "pygments_lexer": "ipython3",
   "version": "3.9.12"
  }
 },
 "nbformat": 4,
 "nbformat_minor": 5
}
