{
 "cells": [
  {
   "cell_type": "markdown",
   "id": "a8ab1d4a",
   "metadata": {},
   "source": [
    "1.Why are functions advantageous to have in your programs?\n",
    "\n",
    "Ans. Instead of writing the same code in multiple places in your program you can call the same using a function. This practice cuts down on program size to the very least, and often improves the readability of the program. Functions also help to reduce coding time as you have to write a routine one time code or statements that call it and it will be executed."
   ]
  },
  {
   "cell_type": "markdown",
   "id": "3e09d8ec",
   "metadata": {},
   "source": [
    "2.When does the code in a function run: when its specified or when its called?\n",
    "\n",
    "Ans. A Python function is a group of code. To run the code in a function, you must call the function. A function can be called from anywhere after the function is defined. Functions can return a value using a return statement.  "
   ]
  },
  {
   "cell_type": "markdown",
   "id": "aa917a05",
   "metadata": {},
   "source": [
    "3.What statement creates a function?\n",
    "\n",
    "Ans. To create function defkeyword is use in Python. Define a unique name for the function and in parenthesis, you can specify your parameters. Function block starts with colon(:)symbol. "
   ]
  },
  {
   "cell_type": "markdown",
   "id": "d0425350",
   "metadata": {},
   "source": [
    "4.What is the difference between a function and a function call?\n",
    "\n",
    "Ans. Function is a block of code which defines the operations to be performed on the set of variables. When you call a function you need to assign values to these variables so that the specific operation can be performed on those values."
   ]
  },
  {
   "cell_type": "markdown",
   "id": "799d55ba",
   "metadata": {},
   "source": [
    "5.How many global scopes are there in a Python program? How many local scopes?\n",
    "\n",
    "Ans. A variable created in the main body of the Python code is a global variable and belongs to the global scope. Global variables are available from within any scope, global and local.The variable defined inside the function is called the local variable. We can access the local variable only inside the function"
   ]
  },
  {
   "cell_type": "markdown",
   "id": "4e836209",
   "metadata": {},
   "source": [
    "6.What happens to variables in a local scope when the function call returns?\n",
    "\n",
    "Ans. A local variable retains its value until the next time the function is called. A local variable becomes undefined after the function call completes The local variable can be used outside the function any time after the function call completes."
   ]
  },
  {
   "cell_type": "markdown",
   "id": "e35035b7",
   "metadata": {},
   "source": [
    "7.What is the concept of a return value? Is it possible to have a return value in an expression?\n",
    "\n",
    "Ans. A python function can return a specified value anywhere within that function by using a return statement, which ends the function under execution and then returns a value to the caller. Return can also give value of the expression without the need to sepeartely specify variable to the expression."
   ]
  },
  {
   "cell_type": "markdown",
   "id": "2cec42e8",
   "metadata": {},
   "source": [
    "8.If a function does not have a return statement, what is the return value of a call to that function?\n",
    "\n",
    "Ans. If a function doesn't specify a return value, it returns None."
   ]
  },
  {
   "cell_type": "markdown",
   "id": "ac4d9aad",
   "metadata": {},
   "source": [
    "9.How do you make a function variable refer to the global variable?\n",
    "\n",
    "Ans. To create a global variable inside a function, you can use the global keyword. Once you use the global keyword, the variable belongs to the global scope:"
   ]
  },
  {
   "cell_type": "markdown",
   "id": "56733e33",
   "metadata": {},
   "source": [
    "10.What is the data type of None?\n",
    "\n",
    "Ans. class NoneType object"
   ]
  },
  {
   "cell_type": "markdown",
   "id": "903b9573",
   "metadata": {},
   "source": [
    "11.What does the sentence import are all your pets namederic do?\n",
    "\n",
    "Ans. The import statement imports a module named areallyourpetsnamederic.\n"
   ]
  },
  {
   "cell_type": "markdown",
   "id": "c0253efe",
   "metadata": {},
   "source": [
    "12.If you had a bacon() feature in a spam module, what would you call it after importing spam?\n",
    "\n",
    "Ans. This function can be called with spam.bacon()."
   ]
  },
  {
   "cell_type": "markdown",
   "id": "99b6cf94",
   "metadata": {},
   "source": [
    "13.What can you do to save a programme from crashing if it encounters an error?\n",
    "\n",
    "Ans. Using exception handling we can avoid the programme from crashing."
   ]
  },
  {
   "cell_type": "markdown",
   "id": "ad6fdea3",
   "metadata": {},
   "source": [
    "14.What is the purpose of the try clause? What is the purpose of the except clause?\n",
    "\n",
    "Ans. The try block is used to check some code for errors i.e the code inside the try block will execute when there is no error in the program. Whereas the code inside the except block will execute whenever the program encounters some error in the preceding try block."
   ]
  }
 ],
 "metadata": {
  "kernelspec": {
   "display_name": "Python 3 (ipykernel)",
   "language": "python",
   "name": "python3"
  },
  "language_info": {
   "codemirror_mode": {
    "name": "ipython",
    "version": 3
   },
   "file_extension": ".py",
   "mimetype": "text/x-python",
   "name": "python",
   "nbconvert_exporter": "python",
   "pygments_lexer": "ipython3",
   "version": "3.9.12"
  }
 },
 "nbformat": 4,
 "nbformat_minor": 5
}
